{
 "cells": [
  {
   "cell_type": "markdown",
   "id": "31f14365",
   "metadata": {
    "papermill": {
     "duration": 0.008015,
     "end_time": "2025-10-29T15:19:47.125345",
     "exception": false,
     "start_time": "2025-10-29T15:19:47.117330",
     "status": "completed"
    },
    "tags": []
   },
   "source": [
    "# Kaggle Competition Info\n",
    "\n",
    "### Welcome to one of our \"Getting Started\" competitions 👋\n",
    "This particular challenge is perfect for data scientists looking to get started with Natural Language Processing. The competition dataset is not too big, and even if you don’t have much personal computing power, you can do all of the work in our free, no-setup, Jupyter Notebooks environment called Kaggle Notebooks.\n",
    "\n",
    "If you want to talk with other users about this competition, come join our Discord! We've got channels for competitions, job postings and career discussions, resources, and socializing with your fellow data scientists. Follow the link here: https://discord.gg/kaggle\n",
    "\n",
    "#### Competition Description\n",
    "Twitter has become an important communication channel in times of emergency.\n",
    "The ubiquitousness of smartphones enables people to announce an emergency they’re observing in real-time. Because of this, more agencies are interested in programatically monitoring Twitter (i.e. disaster relief organizations and news agencies).\n",
    "\n",
    "### Offical link \n",
    "<https://www.kaggle.com/competitions/nlp-getting-started> "
   ]
  },
  {
   "cell_type": "markdown",
   "id": "e07e4205",
   "metadata": {
    "papermill": {
     "duration": 0.00643,
     "end_time": "2025-10-29T15:19:47.139012",
     "exception": false,
     "start_time": "2025-10-29T15:19:47.132582",
     "status": "completed"
    },
    "tags": []
   },
   "source": [
    "# For this jupyter notebook approach\n",
    "Using Multi-Layer Perceptrons (MLPs) from scikit-learn for Natural Language Processing (NLP) involves several key steps to prepare text data for the neural network.\n",
    "1. Text Preprocessing:\n",
    "Tokenization: Divide text into individual words or subword units (tokens).\n",
    "Lowercasing: Convert all text to lowercase to standardize words.\n",
    "Stop Word Removal: Eliminate common words (e.g., \"the,\" \"a,\" \"is\") that often carry little semantic meaning.\n",
    "Stemming or Lemmatization: Reduce words to their root form (e.g., \"running,\" \"runs,\" \"ran\" to \"run\").\n",
    "2. Feature Extraction:\n",
    "Vectorization: Convert processed text into numerical representations that the MLP can understand. Common methods include:\n",
    "CountVectorizer: Creates a matrix where each row represents a document and each column represents a word, with values indicating the frequency of that word in the document.\n",
    "TfidfVectorizer: Similar to CountVectorizer but also considers the inverse document frequency, giving less weight to common words and more weight to rare, informative words.\n",
    "3. MLP Model Training with MLPClassifier or MLPRegressor:\n",
    "import.\n",
    "\n",
    "```Python\n",
    "from sklearn.neural_network import MLPClassifier\n",
    "```\n",
    "or\n",
    "\n",
    "```Python\n",
    "from sklearn.neural_network import MLPRegressor\n",
    "```\n",
    "Initialization: Create an instance of the MLP model, specifying parameters such as:\n",
    "hidden_layer_sizes: A tuple defining the number of neurons in each hidden layer (e.g., (100, 50) for two hidden layers with 100 and 50 neurons, respectively).\n",
    "activation: The activation function (e.g., 'relu', 'tanh', 'logistic').\n",
    "solver: The optimization algorithm (e.g., 'adam', 'sgd', 'lbfgs').\n",
    "max_iter: The maximum number of training iterations.\n",
    "random_state: For reproducibility.\n",
    "Training: Fit the model to your vectorized training data and corresponding labels (for classification) or target values (for regression).\n",
    "Python\n",
    "\n",
    "    model.fit(X_train_vectorized, y_train)\n",
    "4. Prediction and Evaluation:\n",
    "Prediction: Use the trained model to make predictions on new, unseen vectorized text data.\n",
    "Python\n",
    "    ```python\n",
    "    predictions = model.predict(X_test_vectorized)\n",
    "    ```\n",
    "Evaluation: Assess the model's performance using appropriate metrics (e.g., accuracy, precision, recall, F1-score for classification; mean squared error for regression).\n",
    "\n",
    "# Example Workflow (Classification):\n",
    "```Python\n",
    "\n",
    "from sklearn.feature_extraction.text import TfidfVectorizer\n",
    "from sklearn.neural_network import MLPClassifier\n",
    "from sklearn.model_selection import train_test_split\n",
    "from sklearn.metrics import accuracy_score\n",
    "\n",
    "# Sample text data and labels\n",
    "texts = [\"This is a positive review.\", \"Terrible service, very bad.\", \"Good product, happy with it.\", \"Worst experience ever.\"]\n",
    "labels = [1, 0, 1, 0] # 1 for positive, 0 for negative\n",
    "\n",
    "# 1. & 2. Text Preprocessing and Feature Extraction\n",
    "vectorizer = TfidfVectorizer(stop_words='english')\n",
    "X_vectorized = vectorizer.fit_transform(texts)\n",
    "\n",
    "# Split data into training and testing sets\n",
    "X_train, X_test, y_train, y_test = train_test_split(X_vectorized, labels, test_size=0.5, random_state=42)\n",
    "\n",
    "# 3. MLP Model Training\n",
    "mlp = MLPClassifier(hidden_layer_sizes=(100,), activation='relu', solver='adam', max_iter=200, random_state=42)\n",
    "mlp.fit(X_train, y_train)\n",
    "\n",
    "# 4. Prediction and Evaluation\n",
    "y_pred = mlp.predict(X_test)\n",
    "accuracy = accuracy_score(y_test, y_pred)\n",
    "print(f\"Accuracy: {accuracy}\")\n",
    "```"
   ]
  },
  {
   "cell_type": "code",
   "execution_count": 1,
   "id": "1eb9bd5d",
   "metadata": {
    "_cell_guid": "b1076dfc-b9ad-4769-8c92-a6c4dae69d19",
    "_uuid": "8f2839f25d086af736a60e9eeb907d3b93b6e0e5",
    "execution": {
     "iopub.execute_input": "2025-10-29T15:19:47.153547Z",
     "iopub.status.busy": "2025-10-29T15:19:47.153260Z",
     "iopub.status.idle": "2025-10-29T15:19:50.819353Z",
     "shell.execute_reply": "2025-10-29T15:19:50.818604Z"
    },
    "papermill": {
     "duration": 3.675194,
     "end_time": "2025-10-29T15:19:50.820956",
     "exception": false,
     "start_time": "2025-10-29T15:19:47.145762",
     "status": "completed"
    },
    "tags": []
   },
   "outputs": [],
   "source": [
    "# This Python 3 environment comes with many helpful analytics libraries installed\n",
    "# It is defined by the kaggle/python Docker image: https://github.com/kaggle/docker-python\n",
    "# For example, here's several helpful packages to load\n",
    "import os, time , json\n",
    "\n",
    "import numpy as np # linear algebra\n",
    "import pandas as pd # data processing, CSV file I/O (e.g. pd.read_csv)\n",
    "from sklearn.feature_extraction.text import TfidfVectorizer, CountVectorizer\n",
    "from sklearn.model_selection import train_test_split, cross_val_score\n",
    "from sklearn.metrics import (accuracy_score, confusion_matrix, \n",
    "                             classification_report ,  ConfusionMatrixDisplay, \n",
    "                             roc_curve,  roc_auc_score)\n",
    "\n",
    "# MLP\n",
    "from sklearn.neural_network import MLPClassifier\n",
    "\n",
    "\n",
    "\n",
    "# Import seaborn\n",
    "import seaborn as sns\n",
    "import matplotlib.pyplot as plt"
   ]
  },
  {
   "cell_type": "code",
   "execution_count": 2,
   "id": "4b35d304",
   "metadata": {
    "execution": {
     "iopub.execute_input": "2025-10-29T15:19:50.836214Z",
     "iopub.status.busy": "2025-10-29T15:19:50.835413Z",
     "iopub.status.idle": "2025-10-29T15:19:50.839729Z",
     "shell.execute_reply": "2025-10-29T15:19:50.839040Z"
    },
    "papermill": {
     "duration": 0.013038,
     "end_time": "2025-10-29T15:19:50.840982",
     "exception": false,
     "start_time": "2025-10-29T15:19:50.827944",
     "status": "completed"
    },
    "tags": []
   },
   "outputs": [],
   "source": [
    "class CFG:\n",
    "    sampleFile = \"/kaggle/input/nlp-getting-started/sample_submission.csv\"\n",
    "    testFile = \"/kaggle/input/nlp-getting-started/test.csv\"\n",
    "    trainFile = \"/kaggle/input/nlp-getting-started/train.csv\""
   ]
  },
  {
   "cell_type": "code",
   "execution_count": 3,
   "id": "0ffbe70b",
   "metadata": {
    "execution": {
     "iopub.execute_input": "2025-10-29T15:19:50.855515Z",
     "iopub.status.busy": "2025-10-29T15:19:50.854910Z",
     "iopub.status.idle": "2025-10-29T15:19:50.932096Z",
     "shell.execute_reply": "2025-10-29T15:19:50.931178Z"
    },
    "papermill": {
     "duration": 0.085815,
     "end_time": "2025-10-29T15:19:50.933489",
     "exception": false,
     "start_time": "2025-10-29T15:19:50.847674",
     "status": "completed"
    },
    "tags": []
   },
   "outputs": [
    {
     "data": {
      "text/html": [
       "<div>\n",
       "<style scoped>\n",
       "    .dataframe tbody tr th:only-of-type {\n",
       "        vertical-align: middle;\n",
       "    }\n",
       "\n",
       "    .dataframe tbody tr th {\n",
       "        vertical-align: top;\n",
       "    }\n",
       "\n",
       "    .dataframe thead th {\n",
       "        text-align: right;\n",
       "    }\n",
       "</style>\n",
       "<table border=\"1\" class=\"dataframe\">\n",
       "  <thead>\n",
       "    <tr style=\"text-align: right;\">\n",
       "      <th></th>\n",
       "      <th>id</th>\n",
       "      <th>keyword</th>\n",
       "      <th>location</th>\n",
       "      <th>text</th>\n",
       "      <th>target</th>\n",
       "    </tr>\n",
       "  </thead>\n",
       "  <tbody>\n",
       "    <tr>\n",
       "      <th>0</th>\n",
       "      <td>1</td>\n",
       "      <td>NaN</td>\n",
       "      <td>NaN</td>\n",
       "      <td>Our Deeds are the Reason of this #earthquake M...</td>\n",
       "      <td>1</td>\n",
       "    </tr>\n",
       "    <tr>\n",
       "      <th>1</th>\n",
       "      <td>4</td>\n",
       "      <td>NaN</td>\n",
       "      <td>NaN</td>\n",
       "      <td>Forest fire near La Ronge Sask. Canada</td>\n",
       "      <td>1</td>\n",
       "    </tr>\n",
       "    <tr>\n",
       "      <th>2</th>\n",
       "      <td>5</td>\n",
       "      <td>NaN</td>\n",
       "      <td>NaN</td>\n",
       "      <td>All residents asked to 'shelter in place' are ...</td>\n",
       "      <td>1</td>\n",
       "    </tr>\n",
       "    <tr>\n",
       "      <th>3</th>\n",
       "      <td>6</td>\n",
       "      <td>NaN</td>\n",
       "      <td>NaN</td>\n",
       "      <td>13,000 people receive #wildfires evacuation or...</td>\n",
       "      <td>1</td>\n",
       "    </tr>\n",
       "    <tr>\n",
       "      <th>4</th>\n",
       "      <td>7</td>\n",
       "      <td>NaN</td>\n",
       "      <td>NaN</td>\n",
       "      <td>Just got sent this photo from Ruby #Alaska as ...</td>\n",
       "      <td>1</td>\n",
       "    </tr>\n",
       "    <tr>\n",
       "      <th>...</th>\n",
       "      <td>...</td>\n",
       "      <td>...</td>\n",
       "      <td>...</td>\n",
       "      <td>...</td>\n",
       "      <td>...</td>\n",
       "    </tr>\n",
       "    <tr>\n",
       "      <th>7608</th>\n",
       "      <td>10869</td>\n",
       "      <td>NaN</td>\n",
       "      <td>NaN</td>\n",
       "      <td>Two giant cranes holding a bridge collapse int...</td>\n",
       "      <td>1</td>\n",
       "    </tr>\n",
       "    <tr>\n",
       "      <th>7609</th>\n",
       "      <td>10870</td>\n",
       "      <td>NaN</td>\n",
       "      <td>NaN</td>\n",
       "      <td>@aria_ahrary @TheTawniest The out of control w...</td>\n",
       "      <td>1</td>\n",
       "    </tr>\n",
       "    <tr>\n",
       "      <th>7610</th>\n",
       "      <td>10871</td>\n",
       "      <td>NaN</td>\n",
       "      <td>NaN</td>\n",
       "      <td>M1.94 [01:04 UTC]?5km S of Volcano Hawaii. htt...</td>\n",
       "      <td>1</td>\n",
       "    </tr>\n",
       "    <tr>\n",
       "      <th>7611</th>\n",
       "      <td>10872</td>\n",
       "      <td>NaN</td>\n",
       "      <td>NaN</td>\n",
       "      <td>Police investigating after an e-bike collided ...</td>\n",
       "      <td>1</td>\n",
       "    </tr>\n",
       "    <tr>\n",
       "      <th>7612</th>\n",
       "      <td>10873</td>\n",
       "      <td>NaN</td>\n",
       "      <td>NaN</td>\n",
       "      <td>The Latest: More Homes Razed by Northern Calif...</td>\n",
       "      <td>1</td>\n",
       "    </tr>\n",
       "  </tbody>\n",
       "</table>\n",
       "<p>7613 rows × 5 columns</p>\n",
       "</div>"
      ],
      "text/plain": [
       "         id keyword location  \\\n",
       "0         1     NaN      NaN   \n",
       "1         4     NaN      NaN   \n",
       "2         5     NaN      NaN   \n",
       "3         6     NaN      NaN   \n",
       "4         7     NaN      NaN   \n",
       "...     ...     ...      ...   \n",
       "7608  10869     NaN      NaN   \n",
       "7609  10870     NaN      NaN   \n",
       "7610  10871     NaN      NaN   \n",
       "7611  10872     NaN      NaN   \n",
       "7612  10873     NaN      NaN   \n",
       "\n",
       "                                                   text  target  \n",
       "0     Our Deeds are the Reason of this #earthquake M...       1  \n",
       "1                Forest fire near La Ronge Sask. Canada       1  \n",
       "2     All residents asked to 'shelter in place' are ...       1  \n",
       "3     13,000 people receive #wildfires evacuation or...       1  \n",
       "4     Just got sent this photo from Ruby #Alaska as ...       1  \n",
       "...                                                 ...     ...  \n",
       "7608  Two giant cranes holding a bridge collapse int...       1  \n",
       "7609  @aria_ahrary @TheTawniest The out of control w...       1  \n",
       "7610  M1.94 [01:04 UTC]?5km S of Volcano Hawaii. htt...       1  \n",
       "7611  Police investigating after an e-bike collided ...       1  \n",
       "7612  The Latest: More Homes Razed by Northern Calif...       1  \n",
       "\n",
       "[7613 rows x 5 columns]"
      ]
     },
     "execution_count": 3,
     "metadata": {},
     "output_type": "execute_result"
    }
   ],
   "source": [
    "trainDF = pd.read_csv(CFG.trainFile)\n",
    "trainDF"
   ]
  },
  {
   "cell_type": "code",
   "execution_count": 4,
   "id": "cb0a0e49",
   "metadata": {
    "execution": {
     "iopub.execute_input": "2025-10-29T15:19:50.949218Z",
     "iopub.status.busy": "2025-10-29T15:19:50.948618Z",
     "iopub.status.idle": "2025-10-29T15:19:50.989274Z",
     "shell.execute_reply": "2025-10-29T15:19:50.988445Z"
    },
    "papermill": {
     "duration": 0.049904,
     "end_time": "2025-10-29T15:19:50.990614",
     "exception": false,
     "start_time": "2025-10-29T15:19:50.940710",
     "status": "completed"
    },
    "tags": []
   },
   "outputs": [
    {
     "data": {
      "text/html": [
       "<div>\n",
       "<style scoped>\n",
       "    .dataframe tbody tr th:only-of-type {\n",
       "        vertical-align: middle;\n",
       "    }\n",
       "\n",
       "    .dataframe tbody tr th {\n",
       "        vertical-align: top;\n",
       "    }\n",
       "\n",
       "    .dataframe thead th {\n",
       "        text-align: right;\n",
       "    }\n",
       "</style>\n",
       "<table border=\"1\" class=\"dataframe\">\n",
       "  <thead>\n",
       "    <tr style=\"text-align: right;\">\n",
       "      <th></th>\n",
       "      <th>id</th>\n",
       "      <th>keyword</th>\n",
       "      <th>location</th>\n",
       "      <th>text</th>\n",
       "    </tr>\n",
       "  </thead>\n",
       "  <tbody>\n",
       "    <tr>\n",
       "      <th>0</th>\n",
       "      <td>0</td>\n",
       "      <td>NaN</td>\n",
       "      <td>NaN</td>\n",
       "      <td>Just happened a terrible car crash</td>\n",
       "    </tr>\n",
       "    <tr>\n",
       "      <th>1</th>\n",
       "      <td>2</td>\n",
       "      <td>NaN</td>\n",
       "      <td>NaN</td>\n",
       "      <td>Heard about #earthquake is different cities, s...</td>\n",
       "    </tr>\n",
       "    <tr>\n",
       "      <th>2</th>\n",
       "      <td>3</td>\n",
       "      <td>NaN</td>\n",
       "      <td>NaN</td>\n",
       "      <td>there is a forest fire at spot pond, geese are...</td>\n",
       "    </tr>\n",
       "    <tr>\n",
       "      <th>3</th>\n",
       "      <td>9</td>\n",
       "      <td>NaN</td>\n",
       "      <td>NaN</td>\n",
       "      <td>Apocalypse lighting. #Spokane #wildfires</td>\n",
       "    </tr>\n",
       "    <tr>\n",
       "      <th>4</th>\n",
       "      <td>11</td>\n",
       "      <td>NaN</td>\n",
       "      <td>NaN</td>\n",
       "      <td>Typhoon Soudelor kills 28 in China and Taiwan</td>\n",
       "    </tr>\n",
       "    <tr>\n",
       "      <th>...</th>\n",
       "      <td>...</td>\n",
       "      <td>...</td>\n",
       "      <td>...</td>\n",
       "      <td>...</td>\n",
       "    </tr>\n",
       "    <tr>\n",
       "      <th>3258</th>\n",
       "      <td>10861</td>\n",
       "      <td>NaN</td>\n",
       "      <td>NaN</td>\n",
       "      <td>EARTHQUAKE SAFETY LOS ANGELES ÛÒ SAFETY FASTE...</td>\n",
       "    </tr>\n",
       "    <tr>\n",
       "      <th>3259</th>\n",
       "      <td>10865</td>\n",
       "      <td>NaN</td>\n",
       "      <td>NaN</td>\n",
       "      <td>Storm in RI worse than last hurricane. My city...</td>\n",
       "    </tr>\n",
       "    <tr>\n",
       "      <th>3260</th>\n",
       "      <td>10868</td>\n",
       "      <td>NaN</td>\n",
       "      <td>NaN</td>\n",
       "      <td>Green Line derailment in Chicago http://t.co/U...</td>\n",
       "    </tr>\n",
       "    <tr>\n",
       "      <th>3261</th>\n",
       "      <td>10874</td>\n",
       "      <td>NaN</td>\n",
       "      <td>NaN</td>\n",
       "      <td>MEG issues Hazardous Weather Outlook (HWO) htt...</td>\n",
       "    </tr>\n",
       "    <tr>\n",
       "      <th>3262</th>\n",
       "      <td>10875</td>\n",
       "      <td>NaN</td>\n",
       "      <td>NaN</td>\n",
       "      <td>#CityofCalgary has activated its Municipal Eme...</td>\n",
       "    </tr>\n",
       "  </tbody>\n",
       "</table>\n",
       "<p>3263 rows × 4 columns</p>\n",
       "</div>"
      ],
      "text/plain": [
       "         id keyword location  \\\n",
       "0         0     NaN      NaN   \n",
       "1         2     NaN      NaN   \n",
       "2         3     NaN      NaN   \n",
       "3         9     NaN      NaN   \n",
       "4        11     NaN      NaN   \n",
       "...     ...     ...      ...   \n",
       "3258  10861     NaN      NaN   \n",
       "3259  10865     NaN      NaN   \n",
       "3260  10868     NaN      NaN   \n",
       "3261  10874     NaN      NaN   \n",
       "3262  10875     NaN      NaN   \n",
       "\n",
       "                                                   text  \n",
       "0                    Just happened a terrible car crash  \n",
       "1     Heard about #earthquake is different cities, s...  \n",
       "2     there is a forest fire at spot pond, geese are...  \n",
       "3              Apocalypse lighting. #Spokane #wildfires  \n",
       "4         Typhoon Soudelor kills 28 in China and Taiwan  \n",
       "...                                                 ...  \n",
       "3258  EARTHQUAKE SAFETY LOS ANGELES ÛÒ SAFETY FASTE...  \n",
       "3259  Storm in RI worse than last hurricane. My city...  \n",
       "3260  Green Line derailment in Chicago http://t.co/U...  \n",
       "3261  MEG issues Hazardous Weather Outlook (HWO) htt...  \n",
       "3262  #CityofCalgary has activated its Municipal Eme...  \n",
       "\n",
       "[3263 rows x 4 columns]"
      ]
     },
     "execution_count": 4,
     "metadata": {},
     "output_type": "execute_result"
    }
   ],
   "source": [
    "testDF = pd.read_csv(CFG.testFile)\n",
    "testDF"
   ]
  },
  {
   "cell_type": "code",
   "execution_count": 5,
   "id": "22973915",
   "metadata": {
    "execution": {
     "iopub.execute_input": "2025-10-29T15:19:51.007496Z",
     "iopub.status.busy": "2025-10-29T15:19:51.006647Z",
     "iopub.status.idle": "2025-10-29T15:19:51.021675Z",
     "shell.execute_reply": "2025-10-29T15:19:51.020857Z"
    },
    "papermill": {
     "duration": 0.024609,
     "end_time": "2025-10-29T15:19:51.023076",
     "exception": false,
     "start_time": "2025-10-29T15:19:50.998467",
     "status": "completed"
    },
    "tags": []
   },
   "outputs": [
    {
     "data": {
      "text/html": [
       "<div>\n",
       "<style scoped>\n",
       "    .dataframe tbody tr th:only-of-type {\n",
       "        vertical-align: middle;\n",
       "    }\n",
       "\n",
       "    .dataframe tbody tr th {\n",
       "        vertical-align: top;\n",
       "    }\n",
       "\n",
       "    .dataframe thead th {\n",
       "        text-align: right;\n",
       "    }\n",
       "</style>\n",
       "<table border=\"1\" class=\"dataframe\">\n",
       "  <thead>\n",
       "    <tr style=\"text-align: right;\">\n",
       "      <th></th>\n",
       "      <th>id</th>\n",
       "      <th>target</th>\n",
       "    </tr>\n",
       "  </thead>\n",
       "  <tbody>\n",
       "    <tr>\n",
       "      <th>0</th>\n",
       "      <td>0</td>\n",
       "      <td>0</td>\n",
       "    </tr>\n",
       "    <tr>\n",
       "      <th>1</th>\n",
       "      <td>2</td>\n",
       "      <td>0</td>\n",
       "    </tr>\n",
       "    <tr>\n",
       "      <th>2</th>\n",
       "      <td>3</td>\n",
       "      <td>0</td>\n",
       "    </tr>\n",
       "    <tr>\n",
       "      <th>3</th>\n",
       "      <td>9</td>\n",
       "      <td>0</td>\n",
       "    </tr>\n",
       "    <tr>\n",
       "      <th>4</th>\n",
       "      <td>11</td>\n",
       "      <td>0</td>\n",
       "    </tr>\n",
       "    <tr>\n",
       "      <th>...</th>\n",
       "      <td>...</td>\n",
       "      <td>...</td>\n",
       "    </tr>\n",
       "    <tr>\n",
       "      <th>3258</th>\n",
       "      <td>10861</td>\n",
       "      <td>0</td>\n",
       "    </tr>\n",
       "    <tr>\n",
       "      <th>3259</th>\n",
       "      <td>10865</td>\n",
       "      <td>0</td>\n",
       "    </tr>\n",
       "    <tr>\n",
       "      <th>3260</th>\n",
       "      <td>10868</td>\n",
       "      <td>0</td>\n",
       "    </tr>\n",
       "    <tr>\n",
       "      <th>3261</th>\n",
       "      <td>10874</td>\n",
       "      <td>0</td>\n",
       "    </tr>\n",
       "    <tr>\n",
       "      <th>3262</th>\n",
       "      <td>10875</td>\n",
       "      <td>0</td>\n",
       "    </tr>\n",
       "  </tbody>\n",
       "</table>\n",
       "<p>3263 rows × 2 columns</p>\n",
       "</div>"
      ],
      "text/plain": [
       "         id  target\n",
       "0         0       0\n",
       "1         2       0\n",
       "2         3       0\n",
       "3         9       0\n",
       "4        11       0\n",
       "...     ...     ...\n",
       "3258  10861       0\n",
       "3259  10865       0\n",
       "3260  10868       0\n",
       "3261  10874       0\n",
       "3262  10875       0\n",
       "\n",
       "[3263 rows x 2 columns]"
      ]
     },
     "execution_count": 5,
     "metadata": {},
     "output_type": "execute_result"
    }
   ],
   "source": [
    "sample = pd.read_csv(CFG.sampleFile)\n",
    "sample"
   ]
  },
  {
   "cell_type": "code",
   "execution_count": 6,
   "id": "f99f87e3",
   "metadata": {
    "execution": {
     "iopub.execute_input": "2025-10-29T15:19:51.039712Z",
     "iopub.status.busy": "2025-10-29T15:19:51.039000Z",
     "iopub.status.idle": "2025-10-29T15:19:51.305511Z",
     "shell.execute_reply": "2025-10-29T15:19:51.304643Z"
    },
    "papermill": {
     "duration": 0.276097,
     "end_time": "2025-10-29T15:19:51.306919",
     "exception": false,
     "start_time": "2025-10-29T15:19:51.030822",
     "status": "completed"
    },
    "tags": []
   },
   "outputs": [
    {
     "data": {
      "image/png": "[encoded data removed]",
      "text/plain": [
       "<Figure size 640x480 with 1 Axes>"
      ]
     },
     "metadata": {},
     "output_type": "display_data"
    }
   ],
   "source": [
    "trainDF[\"target\"].value_counts().plot(kind=\"bar\");"
   ]
  },
  {
   "cell_type": "markdown",
   "id": "830049ac",
   "metadata": {
    "papermill": {
     "duration": 0.00739,
     "end_time": "2025-10-29T15:19:51.322107",
     "exception": false,
     "start_time": "2025-10-29T15:19:51.314717",
     "status": "completed"
    },
    "tags": []
   },
   "source": [
    "## EDA"
   ]
  },
  {
   "cell_type": "code",
   "execution_count": 7,
   "id": "63f27dff",
   "metadata": {
    "execution": {
     "iopub.execute_input": "2025-10-29T15:19:51.338789Z",
     "iopub.status.busy": "2025-10-29T15:19:51.338248Z",
     "iopub.status.idle": "2025-10-29T15:19:51.343346Z",
     "shell.execute_reply": "2025-10-29T15:19:51.342479Z"
    },
    "papermill": {
     "duration": 0.014864,
     "end_time": "2025-10-29T15:19:51.344658",
     "exception": false,
     "start_time": "2025-10-29T15:19:51.329794",
     "status": "completed"
    },
    "tags": []
   },
   "outputs": [
    {
     "name": "stdout",
     "output_type": "stream",
     "text": [
      "Training Data Shape: (7613, 5)\n",
      "Test Data Shape: (7613, 5)\n",
      "\n",
      "Training Data Columns: ['id', 'keyword', 'location', 'text', 'target']\n"
     ]
    }
   ],
   "source": [
    "\n",
    "print(\"Training Data Shape:\", trainDF.shape)\n",
    "print(\"Test Data Shape:\", trainDF.shape)\n",
    "print(\"\\nTraining Data Columns:\", trainDF.columns.tolist())"
   ]
  },
  {
   "cell_type": "code",
   "execution_count": 8,
   "id": "2fb99c7a",
   "metadata": {
    "execution": {
     "iopub.execute_input": "2025-10-29T15:19:51.361646Z",
     "iopub.status.busy": "2025-10-29T15:19:51.360848Z",
     "iopub.status.idle": "2025-10-29T15:19:51.369685Z",
     "shell.execute_reply": "2025-10-29T15:19:51.368867Z"
    },
    "papermill": {
     "duration": 0.018779,
     "end_time": "2025-10-29T15:19:51.371099",
     "exception": false,
     "start_time": "2025-10-29T15:19:51.352320",
     "status": "completed"
    },
    "tags": []
   },
   "outputs": [
    {
     "data": {
      "text/plain": [
       "15                                         What's up man?\n",
       "16                                          I love fruits\n",
       "17                                       Summer is lovely\n",
       "18                                      My car is so fast\n",
       "19                           What a goooooooaaaaaal!!!!!!\n",
       "                              ...                        \n",
       "7581    @engineshed Great atmosphere at the British Li...\n",
       "7582    Cramer: Iger's 3 words that wrecked Disney's s...\n",
       "7584    These boxes are ready to explode! Exploding Ki...\n",
       "7587                                   Sirens everywhere!\n",
       "7593    I just heard a really loud bang and everyone i...\n",
       "Name: text, Length: 4342, dtype: object"
      ]
     },
     "execution_count": 8,
     "metadata": {},
     "output_type": "execute_result"
    }
   ],
   "source": [
    "trainDF[trainDF[\"target\"]== 0][\"text\"]"
   ]
  },
  {
   "cell_type": "code",
   "execution_count": 9,
   "id": "726e9c24",
   "metadata": {
    "execution": {
     "iopub.execute_input": "2025-10-29T15:19:51.389315Z",
     "iopub.status.busy": "2025-10-29T15:19:51.388714Z",
     "iopub.status.idle": "2025-10-29T15:19:51.396899Z",
     "shell.execute_reply": "2025-10-29T15:19:51.396177Z"
    },
    "papermill": {
     "duration": 0.019065,
     "end_time": "2025-10-29T15:19:51.398252",
     "exception": false,
     "start_time": "2025-10-29T15:19:51.379187",
     "status": "completed"
    },
    "tags": []
   },
   "outputs": [
    {
     "data": {
      "text/plain": [
       "0       Our Deeds are the Reason of this #earthquake M...\n",
       "1                  Forest fire near La Ronge Sask. Canada\n",
       "2       All residents asked to 'shelter in place' are ...\n",
       "3       13,000 people receive #wildfires evacuation or...\n",
       "4       Just got sent this photo from Ruby #Alaska as ...\n",
       "                              ...                        \n",
       "7608    Two giant cranes holding a bridge collapse int...\n",
       "7609    @aria_ahrary @TheTawniest The out of control w...\n",
       "7610    M1.94 [01:04 UTC]?5km S of Volcano Hawaii. htt...\n",
       "7611    Police investigating after an e-bike collided ...\n",
       "7612    The Latest: More Homes Razed by Northern Calif...\n",
       "Name: text, Length: 3271, dtype: object"
      ]
     },
     "execution_count": 9,
     "metadata": {},
     "output_type": "execute_result"
    }
   ],
   "source": [
    "trainDF[trainDF[\"target\"]== 1][\"text\"]"
   ]
  },
  {
   "cell_type": "code",
   "execution_count": 10,
   "id": "ba6f1878",
   "metadata": {
    "execution": {
     "iopub.execute_input": "2025-10-29T15:19:51.415992Z",
     "iopub.status.busy": "2025-10-29T15:19:51.415145Z",
     "iopub.status.idle": "2025-10-29T15:19:51.421108Z",
     "shell.execute_reply": "2025-10-29T15:19:51.420411Z"
    },
    "papermill": {
     "duration": 0.015987,
     "end_time": "2025-10-29T15:19:51.422368",
     "exception": false,
     "start_time": "2025-10-29T15:19:51.406381",
     "status": "completed"
    },
    "tags": []
   },
   "outputs": [
    {
     "data": {
      "text/plain": [
       "7613"
      ]
     },
     "execution_count": 10,
     "metadata": {},
     "output_type": "execute_result"
    }
   ],
   "source": [
    "trainDataSize = len(trainDF[\"text\"])\n",
    "trainDataSize"
   ]
  },
  {
   "cell_type": "markdown",
   "id": "1ade3e9b",
   "metadata": {
    "papermill": {
     "duration": 0.00778,
     "end_time": "2025-10-29T15:19:51.438230",
     "exception": false,
     "start_time": "2025-10-29T15:19:51.430450",
     "status": "completed"
    },
    "tags": []
   },
   "source": [
    "### Convert text to vector by TFIDF vector"
   ]
  },
  {
   "cell_type": "code",
   "execution_count": 11,
   "id": "3c8a8713",
   "metadata": {
    "execution": {
     "iopub.execute_input": "2025-10-29T15:19:51.455982Z",
     "iopub.status.busy": "2025-10-29T15:19:51.455677Z",
     "iopub.status.idle": "2025-10-29T15:19:51.459583Z",
     "shell.execute_reply": "2025-10-29T15:19:51.458879Z"
    },
    "papermill": {
     "duration": 0.014125,
     "end_time": "2025-10-29T15:19:51.460779",
     "exception": false,
     "start_time": "2025-10-29T15:19:51.446654",
     "status": "completed"
    },
    "tags": []
   },
   "outputs": [],
   "source": [
    "# convert text to vector by TFIDF vector\n",
    "tfidf = TfidfVectorizer(stop_words=\"english\")\n"
   ]
  },
  {
   "cell_type": "code",
   "execution_count": 12,
   "id": "a4c32740",
   "metadata": {
    "execution": {
     "iopub.execute_input": "2025-10-29T15:19:51.478493Z",
     "iopub.status.busy": "2025-10-29T15:19:51.478194Z",
     "iopub.status.idle": "2025-10-29T15:19:51.490333Z",
     "shell.execute_reply": "2025-10-29T15:19:51.489521Z"
    },
    "papermill": {
     "duration": 0.02303,
     "end_time": "2025-10-29T15:19:51.491840",
     "exception": false,
     "start_time": "2025-10-29T15:19:51.468810",
     "status": "completed"
    },
    "tags": []
   },
   "outputs": [
    {
     "data": {
      "text/html": [
       "<div>\n",
       "<style scoped>\n",
       "    .dataframe tbody tr th:only-of-type {\n",
       "        vertical-align: middle;\n",
       "    }\n",
       "\n",
       "    .dataframe tbody tr th {\n",
       "        vertical-align: top;\n",
       "    }\n",
       "\n",
       "    .dataframe thead th {\n",
       "        text-align: right;\n",
       "    }\n",
       "</style>\n",
       "<table border=\"1\" class=\"dataframe\">\n",
       "  <thead>\n",
       "    <tr style=\"text-align: right;\">\n",
       "      <th></th>\n",
       "      <th>id</th>\n",
       "      <th>keyword</th>\n",
       "      <th>location</th>\n",
       "      <th>text</th>\n",
       "    </tr>\n",
       "  </thead>\n",
       "  <tbody>\n",
       "    <tr>\n",
       "      <th>0</th>\n",
       "      <td>1</td>\n",
       "      <td>NaN</td>\n",
       "      <td>NaN</td>\n",
       "      <td>Our Deeds are the Reason of this #earthquake M...</td>\n",
       "    </tr>\n",
       "    <tr>\n",
       "      <th>1</th>\n",
       "      <td>4</td>\n",
       "      <td>NaN</td>\n",
       "      <td>NaN</td>\n",
       "      <td>Forest fire near La Ronge Sask. Canada</td>\n",
       "    </tr>\n",
       "    <tr>\n",
       "      <th>2</th>\n",
       "      <td>5</td>\n",
       "      <td>NaN</td>\n",
       "      <td>NaN</td>\n",
       "      <td>All residents asked to 'shelter in place' are ...</td>\n",
       "    </tr>\n",
       "    <tr>\n",
       "      <th>3</th>\n",
       "      <td>6</td>\n",
       "      <td>NaN</td>\n",
       "      <td>NaN</td>\n",
       "      <td>13,000 people receive #wildfires evacuation or...</td>\n",
       "    </tr>\n",
       "    <tr>\n",
       "      <th>4</th>\n",
       "      <td>7</td>\n",
       "      <td>NaN</td>\n",
       "      <td>NaN</td>\n",
       "      <td>Just got sent this photo from Ruby #Alaska as ...</td>\n",
       "    </tr>\n",
       "    <tr>\n",
       "      <th>...</th>\n",
       "      <td>...</td>\n",
       "      <td>...</td>\n",
       "      <td>...</td>\n",
       "      <td>...</td>\n",
       "    </tr>\n",
       "    <tr>\n",
       "      <th>7608</th>\n",
       "      <td>10869</td>\n",
       "      <td>NaN</td>\n",
       "      <td>NaN</td>\n",
       "      <td>Two giant cranes holding a bridge collapse int...</td>\n",
       "    </tr>\n",
       "    <tr>\n",
       "      <th>7609</th>\n",
       "      <td>10870</td>\n",
       "      <td>NaN</td>\n",
       "      <td>NaN</td>\n",
       "      <td>@aria_ahrary @TheTawniest The out of control w...</td>\n",
       "    </tr>\n",
       "    <tr>\n",
       "      <th>7610</th>\n",
       "      <td>10871</td>\n",
       "      <td>NaN</td>\n",
       "      <td>NaN</td>\n",
       "      <td>M1.94 [01:04 UTC]?5km S of Volcano Hawaii. htt...</td>\n",
       "    </tr>\n",
       "    <tr>\n",
       "      <th>7611</th>\n",
       "      <td>10872</td>\n",
       "      <td>NaN</td>\n",
       "      <td>NaN</td>\n",
       "      <td>Police investigating after an e-bike collided ...</td>\n",
       "    </tr>\n",
       "    <tr>\n",
       "      <th>7612</th>\n",
       "      <td>10873</td>\n",
       "      <td>NaN</td>\n",
       "      <td>NaN</td>\n",
       "      <td>The Latest: More Homes Razed by Northern Calif...</td>\n",
       "    </tr>\n",
       "  </tbody>\n",
       "</table>\n",
       "<p>7613 rows × 4 columns</p>\n",
       "</div>"
      ],
      "text/plain": [
       "         id keyword location  \\\n",
       "0         1     NaN      NaN   \n",
       "1         4     NaN      NaN   \n",
       "2         5     NaN      NaN   \n",
       "3         6     NaN      NaN   \n",
       "4         7     NaN      NaN   \n",
       "...     ...     ...      ...   \n",
       "7608  10869     NaN      NaN   \n",
       "7609  10870     NaN      NaN   \n",
       "7610  10871     NaN      NaN   \n",
       "7611  10872     NaN      NaN   \n",
       "7612  10873     NaN      NaN   \n",
       "\n",
       "                                                   text  \n",
       "0     Our Deeds are the Reason of this #earthquake M...  \n",
       "1                Forest fire near La Ronge Sask. Canada  \n",
       "2     All residents asked to 'shelter in place' are ...  \n",
       "3     13,000 people receive #wildfires evacuation or...  \n",
       "4     Just got sent this photo from Ruby #Alaska as ...  \n",
       "...                                                 ...  \n",
       "7608  Two giant cranes holding a bridge collapse int...  \n",
       "7609  @aria_ahrary @TheTawniest The out of control w...  \n",
       "7610  M1.94 [01:04 UTC]?5km S of Volcano Hawaii. htt...  \n",
       "7611  Police investigating after an e-bike collided ...  \n",
       "7612  The Latest: More Homes Razed by Northern Calif...  \n",
       "\n",
       "[7613 rows x 4 columns]"
      ]
     },
     "execution_count": 12,
     "metadata": {},
     "output_type": "execute_result"
    }
   ],
   "source": [
    "tempTrainDF = trainDF.drop(['target'], axis=1)\n",
    "tempTrainDF"
   ]
  },
  {
   "cell_type": "code",
   "execution_count": 13,
   "id": "de22b372",
   "metadata": {
    "execution": {
     "iopub.execute_input": "2025-10-29T15:19:51.509963Z",
     "iopub.status.busy": "2025-10-29T15:19:51.509667Z",
     "iopub.status.idle": "2025-10-29T15:19:51.520277Z",
     "shell.execute_reply": "2025-10-29T15:19:51.519481Z"
    },
    "papermill": {
     "duration": 0.021079,
     "end_time": "2025-10-29T15:19:51.521593",
     "exception": false,
     "start_time": "2025-10-29T15:19:51.500514",
     "status": "completed"
    },
    "tags": []
   },
   "outputs": [
    {
     "data": {
      "text/html": [
       "<div>\n",
       "<style scoped>\n",
       "    .dataframe tbody tr th:only-of-type {\n",
       "        vertical-align: middle;\n",
       "    }\n",
       "\n",
       "    .dataframe tbody tr th {\n",
       "        vertical-align: top;\n",
       "    }\n",
       "\n",
       "    .dataframe thead th {\n",
       "        text-align: right;\n",
       "    }\n",
       "</style>\n",
       "<table border=\"1\" class=\"dataframe\">\n",
       "  <thead>\n",
       "    <tr style=\"text-align: right;\">\n",
       "      <th></th>\n",
       "      <th>id</th>\n",
       "      <th>keyword</th>\n",
       "      <th>location</th>\n",
       "      <th>text</th>\n",
       "    </tr>\n",
       "  </thead>\n",
       "  <tbody>\n",
       "    <tr>\n",
       "      <th>0</th>\n",
       "      <td>1</td>\n",
       "      <td>NaN</td>\n",
       "      <td>NaN</td>\n",
       "      <td>Our Deeds are the Reason of this #earthquake M...</td>\n",
       "    </tr>\n",
       "    <tr>\n",
       "      <th>1</th>\n",
       "      <td>4</td>\n",
       "      <td>NaN</td>\n",
       "      <td>NaN</td>\n",
       "      <td>Forest fire near La Ronge Sask. Canada</td>\n",
       "    </tr>\n",
       "    <tr>\n",
       "      <th>2</th>\n",
       "      <td>5</td>\n",
       "      <td>NaN</td>\n",
       "      <td>NaN</td>\n",
       "      <td>All residents asked to 'shelter in place' are ...</td>\n",
       "    </tr>\n",
       "    <tr>\n",
       "      <th>3</th>\n",
       "      <td>6</td>\n",
       "      <td>NaN</td>\n",
       "      <td>NaN</td>\n",
       "      <td>13,000 people receive #wildfires evacuation or...</td>\n",
       "    </tr>\n",
       "    <tr>\n",
       "      <th>4</th>\n",
       "      <td>7</td>\n",
       "      <td>NaN</td>\n",
       "      <td>NaN</td>\n",
       "      <td>Just got sent this photo from Ruby #Alaska as ...</td>\n",
       "    </tr>\n",
       "    <tr>\n",
       "      <th>...</th>\n",
       "      <td>...</td>\n",
       "      <td>...</td>\n",
       "      <td>...</td>\n",
       "      <td>...</td>\n",
       "    </tr>\n",
       "    <tr>\n",
       "      <th>10871</th>\n",
       "      <td>10861</td>\n",
       "      <td>NaN</td>\n",
       "      <td>NaN</td>\n",
       "      <td>EARTHQUAKE SAFETY LOS ANGELES ÛÒ SAFETY FASTE...</td>\n",
       "    </tr>\n",
       "    <tr>\n",
       "      <th>10872</th>\n",
       "      <td>10865</td>\n",
       "      <td>NaN</td>\n",
       "      <td>NaN</td>\n",
       "      <td>Storm in RI worse than last hurricane. My city...</td>\n",
       "    </tr>\n",
       "    <tr>\n",
       "      <th>10873</th>\n",
       "      <td>10868</td>\n",
       "      <td>NaN</td>\n",
       "      <td>NaN</td>\n",
       "      <td>Green Line derailment in Chicago http://t.co/U...</td>\n",
       "    </tr>\n",
       "    <tr>\n",
       "      <th>10874</th>\n",
       "      <td>10874</td>\n",
       "      <td>NaN</td>\n",
       "      <td>NaN</td>\n",
       "      <td>MEG issues Hazardous Weather Outlook (HWO) htt...</td>\n",
       "    </tr>\n",
       "    <tr>\n",
       "      <th>10875</th>\n",
       "      <td>10875</td>\n",
       "      <td>NaN</td>\n",
       "      <td>NaN</td>\n",
       "      <td>#CityofCalgary has activated its Municipal Eme...</td>\n",
       "    </tr>\n",
       "  </tbody>\n",
       "</table>\n",
       "<p>10876 rows × 4 columns</p>\n",
       "</div>"
      ],
      "text/plain": [
       "          id keyword location  \\\n",
       "0          1     NaN      NaN   \n",
       "1          4     NaN      NaN   \n",
       "2          5     NaN      NaN   \n",
       "3          6     NaN      NaN   \n",
       "4          7     NaN      NaN   \n",
       "...      ...     ...      ...   \n",
       "10871  10861     NaN      NaN   \n",
       "10872  10865     NaN      NaN   \n",
       "10873  10868     NaN      NaN   \n",
       "10874  10874     NaN      NaN   \n",
       "10875  10875     NaN      NaN   \n",
       "\n",
       "                                                    text  \n",
       "0      Our Deeds are the Reason of this #earthquake M...  \n",
       "1                 Forest fire near La Ronge Sask. Canada  \n",
       "2      All residents asked to 'shelter in place' are ...  \n",
       "3      13,000 people receive #wildfires evacuation or...  \n",
       "4      Just got sent this photo from Ruby #Alaska as ...  \n",
       "...                                                  ...  \n",
       "10871  EARTHQUAKE SAFETY LOS ANGELES ÛÒ SAFETY FASTE...  \n",
       "10872  Storm in RI worse than last hurricane. My city...  \n",
       "10873  Green Line derailment in Chicago http://t.co/U...  \n",
       "10874  MEG issues Hazardous Weather Outlook (HWO) htt...  \n",
       "10875  #CityofCalgary has activated its Municipal Eme...  \n",
       "\n",
       "[10876 rows x 4 columns]"
      ]
     },
     "execution_count": 13,
     "metadata": {},
     "output_type": "execute_result"
    }
   ],
   "source": [
    "mergedDF = pd.concat([tempTrainDF , testDF], ignore_index=True)\n",
    "mergedDF"
   ]
  },
  {
   "cell_type": "code",
   "execution_count": 14,
   "id": "8015efee",
   "metadata": {
    "execution": {
     "iopub.execute_input": "2025-10-29T15:19:51.539544Z",
     "iopub.status.busy": "2025-10-29T15:19:51.539255Z",
     "iopub.status.idle": "2025-10-29T15:19:51.550450Z",
     "shell.execute_reply": "2025-10-29T15:19:51.549717Z"
    },
    "papermill": {
     "duration": 0.021608,
     "end_time": "2025-10-29T15:19:51.551686",
     "exception": false,
     "start_time": "2025-10-29T15:19:51.530078",
     "status": "completed"
    },
    "tags": []
   },
   "outputs": [
    {
     "data": {
      "text/html": [
       "<div>\n",
       "<style scoped>\n",
       "    .dataframe tbody tr th:only-of-type {\n",
       "        vertical-align: middle;\n",
       "    }\n",
       "\n",
       "    .dataframe tbody tr th {\n",
       "        vertical-align: top;\n",
       "    }\n",
       "\n",
       "    .dataframe thead th {\n",
       "        text-align: right;\n",
       "    }\n",
       "</style>\n",
       "<table border=\"1\" class=\"dataframe\">\n",
       "  <thead>\n",
       "    <tr style=\"text-align: right;\">\n",
       "      <th></th>\n",
       "      <th>index</th>\n",
       "      <th>id</th>\n",
       "      <th>keyword</th>\n",
       "      <th>location</th>\n",
       "      <th>text</th>\n",
       "    </tr>\n",
       "  </thead>\n",
       "  <tbody>\n",
       "    <tr>\n",
       "      <th>0</th>\n",
       "      <td>0</td>\n",
       "      <td>1</td>\n",
       "      <td>NaN</td>\n",
       "      <td>NaN</td>\n",
       "      <td>Our Deeds are the Reason of this #earthquake M...</td>\n",
       "    </tr>\n",
       "    <tr>\n",
       "      <th>1</th>\n",
       "      <td>1</td>\n",
       "      <td>4</td>\n",
       "      <td>NaN</td>\n",
       "      <td>NaN</td>\n",
       "      <td>Forest fire near La Ronge Sask. Canada</td>\n",
       "    </tr>\n",
       "    <tr>\n",
       "      <th>2</th>\n",
       "      <td>2</td>\n",
       "      <td>5</td>\n",
       "      <td>NaN</td>\n",
       "      <td>NaN</td>\n",
       "      <td>All residents asked to 'shelter in place' are ...</td>\n",
       "    </tr>\n",
       "    <tr>\n",
       "      <th>3</th>\n",
       "      <td>3</td>\n",
       "      <td>6</td>\n",
       "      <td>NaN</td>\n",
       "      <td>NaN</td>\n",
       "      <td>13,000 people receive #wildfires evacuation or...</td>\n",
       "    </tr>\n",
       "    <tr>\n",
       "      <th>4</th>\n",
       "      <td>4</td>\n",
       "      <td>7</td>\n",
       "      <td>NaN</td>\n",
       "      <td>NaN</td>\n",
       "      <td>Just got sent this photo from Ruby #Alaska as ...</td>\n",
       "    </tr>\n",
       "    <tr>\n",
       "      <th>...</th>\n",
       "      <td>...</td>\n",
       "      <td>...</td>\n",
       "      <td>...</td>\n",
       "      <td>...</td>\n",
       "      <td>...</td>\n",
       "    </tr>\n",
       "    <tr>\n",
       "      <th>10871</th>\n",
       "      <td>10871</td>\n",
       "      <td>10861</td>\n",
       "      <td>NaN</td>\n",
       "      <td>NaN</td>\n",
       "      <td>EARTHQUAKE SAFETY LOS ANGELES ÛÒ SAFETY FASTE...</td>\n",
       "    </tr>\n",
       "    <tr>\n",
       "      <th>10872</th>\n",
       "      <td>10872</td>\n",
       "      <td>10865</td>\n",
       "      <td>NaN</td>\n",
       "      <td>NaN</td>\n",
       "      <td>Storm in RI worse than last hurricane. My city...</td>\n",
       "    </tr>\n",
       "    <tr>\n",
       "      <th>10873</th>\n",
       "      <td>10873</td>\n",
       "      <td>10868</td>\n",
       "      <td>NaN</td>\n",
       "      <td>NaN</td>\n",
       "      <td>Green Line derailment in Chicago http://t.co/U...</td>\n",
       "    </tr>\n",
       "    <tr>\n",
       "      <th>10874</th>\n",
       "      <td>10874</td>\n",
       "      <td>10874</td>\n",
       "      <td>NaN</td>\n",
       "      <td>NaN</td>\n",
       "      <td>MEG issues Hazardous Weather Outlook (HWO) htt...</td>\n",
       "    </tr>\n",
       "    <tr>\n",
       "      <th>10875</th>\n",
       "      <td>10875</td>\n",
       "      <td>10875</td>\n",
       "      <td>NaN</td>\n",
       "      <td>NaN</td>\n",
       "      <td>#CityofCalgary has activated its Municipal Eme...</td>\n",
       "    </tr>\n",
       "  </tbody>\n",
       "</table>\n",
       "<p>10876 rows × 5 columns</p>\n",
       "</div>"
      ],
      "text/plain": [
       "       index     id keyword location  \\\n",
       "0          0      1     NaN      NaN   \n",
       "1          1      4     NaN      NaN   \n",
       "2          2      5     NaN      NaN   \n",
       "3          3      6     NaN      NaN   \n",
       "4          4      7     NaN      NaN   \n",
       "...      ...    ...     ...      ...   \n",
       "10871  10871  10861     NaN      NaN   \n",
       "10872  10872  10865     NaN      NaN   \n",
       "10873  10873  10868     NaN      NaN   \n",
       "10874  10874  10874     NaN      NaN   \n",
       "10875  10875  10875     NaN      NaN   \n",
       "\n",
       "                                                    text  \n",
       "0      Our Deeds are the Reason of this #earthquake M...  \n",
       "1                 Forest fire near La Ronge Sask. Canada  \n",
       "2      All residents asked to 'shelter in place' are ...  \n",
       "3      13,000 people receive #wildfires evacuation or...  \n",
       "4      Just got sent this photo from Ruby #Alaska as ...  \n",
       "...                                                  ...  \n",
       "10871  EARTHQUAKE SAFETY LOS ANGELES ÛÒ SAFETY FASTE...  \n",
       "10872  Storm in RI worse than last hurricane. My city...  \n",
       "10873  Green Line derailment in Chicago http://t.co/U...  \n",
       "10874  MEG issues Hazardous Weather Outlook (HWO) htt...  \n",
       "10875  #CityofCalgary has activated its Municipal Eme...  \n",
       "\n",
       "[10876 rows x 5 columns]"
      ]
     },
     "execution_count": 14,
     "metadata": {},
     "output_type": "execute_result"
    }
   ],
   "source": [
    "mergedDF.reset_index()"
   ]
  },
  {
   "cell_type": "code",
   "execution_count": 15,
   "id": "78f88d39",
   "metadata": {
    "execution": {
     "iopub.execute_input": "2025-10-29T15:19:51.570709Z",
     "iopub.status.busy": "2025-10-29T15:19:51.570031Z",
     "iopub.status.idle": "2025-10-29T15:19:52.033262Z",
     "shell.execute_reply": "2025-10-29T15:19:52.032349Z"
    },
    "papermill": {
     "duration": 0.474346,
     "end_time": "2025-10-29T15:19:52.034901",
     "exception": false,
     "start_time": "2025-10-29T15:19:51.560555",
     "status": "completed"
    },
    "tags": []
   },
   "outputs": [],
   "source": [
    "# xVect = tfidf.fit_transform(trainDF[\"text\"][:5])\n",
    "trainTfid = tfidf.fit_transform(trainDF[\"text\"]) \n",
    "testTfid = tfidf.fit_transform(testDF[\"text\"])\n",
    "\n",
    "combinedTfid = tfidf.fit_transform(mergedDF[\"text\"])"
   ]
  },
  {
   "cell_type": "code",
   "execution_count": 16,
   "id": "b3d81394",
   "metadata": {
    "execution": {
     "iopub.execute_input": "2025-10-29T15:19:52.054308Z",
     "iopub.status.busy": "2025-10-29T15:19:52.053523Z",
     "iopub.status.idle": "2025-10-29T15:19:52.511144Z",
     "shell.execute_reply": "2025-10-29T15:19:52.509940Z"
    },
    "papermill": {
     "duration": 0.468885,
     "end_time": "2025-10-29T15:19:52.512651",
     "exception": false,
     "start_time": "2025-10-29T15:19:52.043766",
     "status": "completed"
    },
    "tags": []
   },
   "outputs": [
    {
     "data": {
      "text/plain": [
       "7613"
      ]
     },
     "execution_count": 16,
     "metadata": {},
     "output_type": "execute_result"
    }
   ],
   "source": [
    "len(combinedTfid[: len(trainDF[\"text\"])].toarray())"
   ]
  },
  {
   "cell_type": "code",
   "execution_count": 17,
   "id": "461df35e",
   "metadata": {
    "execution": {
     "iopub.execute_input": "2025-10-29T15:19:52.532742Z",
     "iopub.status.busy": "2025-10-29T15:19:52.531986Z",
     "iopub.status.idle": "2025-10-29T15:19:52.556340Z",
     "shell.execute_reply": "2025-10-29T15:19:52.555588Z"
    },
    "papermill": {
     "duration": 0.035893,
     "end_time": "2025-10-29T15:19:52.557643",
     "exception": false,
     "start_time": "2025-10-29T15:19:52.521750",
     "status": "completed"
    },
    "tags": []
   },
   "outputs": [
    {
     "data": {
      "text/plain": [
       "array(['00', '000', '0000', ..., 'ûótech', 'ûówe', 'ûówere'], dtype=object)"
      ]
     },
     "execution_count": 17,
     "metadata": {},
     "output_type": "execute_result"
    }
   ],
   "source": [
    "tfidf.get_feature_names_out()"
   ]
  },
  {
   "cell_type": "code",
   "execution_count": 18,
   "id": "5a755662",
   "metadata": {
    "execution": {
     "iopub.execute_input": "2025-10-29T15:19:52.576991Z",
     "iopub.status.busy": "2025-10-29T15:19:52.576288Z",
     "iopub.status.idle": "2025-10-29T15:19:52.581269Z",
     "shell.execute_reply": "2025-10-29T15:19:52.580335Z"
    },
    "papermill": {
     "duration": 0.016034,
     "end_time": "2025-10-29T15:19:52.582589",
     "exception": false,
     "start_time": "2025-10-29T15:19:52.566555",
     "status": "completed"
    },
    "tags": []
   },
   "outputs": [
    {
     "name": "stdout",
     "output_type": "stream",
     "text": [
      "(7613, 21363)\n",
      "(3263, 12021)\n",
      "(10876, 27641)\n"
     ]
    }
   ],
   "source": [
    "print(trainTfid.shape) , print(testTfid.shape) , print(combinedTfid.shape);"
   ]
  },
  {
   "cell_type": "code",
   "execution_count": 19,
   "id": "2f959a5c",
   "metadata": {
    "execution": {
     "iopub.execute_input": "2025-10-29T15:19:52.602663Z",
     "iopub.status.busy": "2025-10-29T15:19:52.602371Z",
     "iopub.status.idle": "2025-10-29T15:19:52.608240Z",
     "shell.execute_reply": "2025-10-29T15:19:52.607389Z"
    },
    "papermill": {
     "duration": 0.016839,
     "end_time": "2025-10-29T15:19:52.609544",
     "exception": false,
     "start_time": "2025-10-29T15:19:52.592705",
     "status": "completed"
    },
    "tags": []
   },
   "outputs": [
    {
     "data": {
      "text/plain": [
       "(1, 21363)"
      ]
     },
     "execution_count": 19,
     "metadata": {},
     "output_type": "execute_result"
    }
   ],
   "source": [
    "trainTfid[0].toarray().shape"
   ]
  },
  {
   "cell_type": "markdown",
   "id": "e9345baa",
   "metadata": {
    "papermill": {
     "duration": 0.008432,
     "end_time": "2025-10-29T15:19:52.626959",
     "exception": false,
     "start_time": "2025-10-29T15:19:52.618527",
     "status": "completed"
    },
    "tags": []
   },
   "source": [
    "# Split Train/Test dataset"
   ]
  },
  {
   "cell_type": "code",
   "execution_count": 20,
   "id": "551d9895",
   "metadata": {
    "execution": {
     "iopub.execute_input": "2025-10-29T15:19:52.645909Z",
     "iopub.status.busy": "2025-10-29T15:19:52.645165Z",
     "iopub.status.idle": "2025-10-29T15:19:52.652551Z",
     "shell.execute_reply": "2025-10-29T15:19:52.651710Z"
    },
    "papermill": {
     "duration": 0.01835,
     "end_time": "2025-10-29T15:19:52.653961",
     "exception": false,
     "start_time": "2025-10-29T15:19:52.635611",
     "status": "completed"
    },
    "tags": []
   },
   "outputs": [],
   "source": [
    "X_train, X_test, y_train, y_test =  train_test_split(combinedTfid[: trainDataSize], trainDF[\"target\"], test_size=0.2, random_state=42)"
   ]
  },
  {
   "cell_type": "code",
   "execution_count": 21,
   "id": "ebef2d6e",
   "metadata": {
    "execution": {
     "iopub.execute_input": "2025-10-29T15:19:52.673217Z",
     "iopub.status.busy": "2025-10-29T15:19:52.672883Z",
     "iopub.status.idle": "2025-10-29T15:19:52.677987Z",
     "shell.execute_reply": "2025-10-29T15:19:52.677110Z"
    },
    "papermill": {
     "duration": 0.016515,
     "end_time": "2025-10-29T15:19:52.679414",
     "exception": false,
     "start_time": "2025-10-29T15:19:52.662899",
     "status": "completed"
    },
    "tags": []
   },
   "outputs": [
    {
     "name": "stdout",
     "output_type": "stream",
     "text": [
      "(6090, 27641)\n",
      "(1523, 27641)\n",
      "(6090,)\n",
      "(1523,)\n"
     ]
    }
   ],
   "source": [
    "print(X_train.shape)  , print(X_test.shape) , print(y_train.shape)  , print(y_test.shape);  "
   ]
  },
  {
   "cell_type": "markdown",
   "id": "47ef1582",
   "metadata": {
    "papermill": {
     "duration": 0.008805,
     "end_time": "2025-10-29T15:19:52.697344",
     "exception": false,
     "start_time": "2025-10-29T15:19:52.688539",
     "status": "completed"
    },
    "tags": []
   },
   "source": [
    "### MLP inital"
   ]
  },
  {
   "cell_type": "code",
   "execution_count": 22,
   "id": "59a61e49",
   "metadata": {
    "execution": {
     "iopub.execute_input": "2025-10-29T15:19:52.716550Z",
     "iopub.status.busy": "2025-10-29T15:19:52.715792Z",
     "iopub.status.idle": "2025-10-29T15:19:52.727404Z",
     "shell.execute_reply": "2025-10-29T15:19:52.726588Z"
    },
    "papermill": {
     "duration": 0.022466,
     "end_time": "2025-10-29T15:19:52.728673",
     "exception": false,
     "start_time": "2025-10-29T15:19:52.706207",
     "status": "completed"
    },
    "tags": []
   },
   "outputs": [
    {
     "data": {
      "text/html": [
       "<style>#sk-container-id-1 {color: black;background-color: white;}#sk-container-id-1 pre{padding: 0;}#sk-container-id-1 div.sk-toggleable {background-color: white;}#sk-container-id-1 label.sk-toggleable__label {cursor: pointer;display: block;width: 100%;margin-bottom: 0;padding: 0.3em;box-sizing: border-box;text-align: center;}#sk-container-id-1 label.sk-toggleable__label-arrow:before {content: \"▸\";float: left;margin-right: 0.25em;color: #696969;}#sk-container-id-1 label.sk-toggleable__label-arrow:hover:before {color: black;}#sk-container-id-1 div.sk-estimator:hover label.sk-toggleable__label-arrow:before {color: black;}#sk-container-id-1 div.sk-toggleable__content {max-height: 0;max-width: 0;overflow: hidden;text-align: left;background-color: #f0f8ff;}#sk-container-id-1 div.sk-toggleable__content pre {margin: 0.2em;color: black;border-radius: 0.25em;background-color: #f0f8ff;}#sk-container-id-1 input.sk-toggleable__control:checked~div.sk-toggleable__content {max-height: 200px;max-width: 100%;overflow: auto;}#sk-container-id-1 input.sk-toggleable__control:checked~label.sk-toggleable__label-arrow:before {content: \"▾\";}#sk-container-id-1 div.sk-estimator input.sk-toggleable__control:checked~label.sk-toggleable__label {background-color: #d4ebff;}#sk-container-id-1 div.sk-label input.sk-toggleable__control:checked~label.sk-toggleable__label {background-color: #d4ebff;}#sk-container-id-1 input.sk-hidden--visually {border: 0;clip: rect(1px 1px 1px 1px);clip: rect(1px, 1px, 1px, 1px);height: 1px;margin: -1px;overflow: hidden;padding: 0;position: absolute;width: 1px;}#sk-container-id-1 div.sk-estimator {font-family: monospace;background-color: #f0f8ff;border: 1px dotted black;border-radius: 0.25em;box-sizing: border-box;margin-bottom: 0.5em;}#sk-container-id-1 div.sk-estimator:hover {background-color: #d4ebff;}#sk-container-id-1 div.sk-parallel-item::after {content: \"\";width: 100%;border-bottom: 1px solid gray;flex-grow: 1;}#sk-container-id-1 div.sk-label:hover label.sk-toggleable__label {background-color: #d4ebff;}#sk-container-id-1 div.sk-serial::before {content: \"\";position: absolute;border-left: 1px solid gray;box-sizing: border-box;top: 0;bottom: 0;left: 50%;z-index: 0;}#sk-container-id-1 div.sk-serial {display: flex;flex-direction: column;align-items: center;background-color: white;padding-right: 0.2em;padding-left: 0.2em;position: relative;}#sk-container-id-1 div.sk-item {position: relative;z-index: 1;}#sk-container-id-1 div.sk-parallel {display: flex;align-items: stretch;justify-content: center;background-color: white;position: relative;}#sk-container-id-1 div.sk-item::before, #sk-container-id-1 div.sk-parallel-item::before {content: \"\";position: absolute;border-left: 1px solid gray;box-sizing: border-box;top: 0;bottom: 0;left: 50%;z-index: -1;}#sk-container-id-1 div.sk-parallel-item {display: flex;flex-direction: column;z-index: 1;position: relative;background-color: white;}#sk-container-id-1 div.sk-parallel-item:first-child::after {align-self: flex-end;width: 50%;}#sk-container-id-1 div.sk-parallel-item:last-child::after {align-self: flex-start;width: 50%;}#sk-container-id-1 div.sk-parallel-item:only-child::after {width: 0;}#sk-container-id-1 div.sk-dashed-wrapped {border: 1px dashed gray;margin: 0 0.4em 0.5em 0.4em;box-sizing: border-box;padding-bottom: 0.4em;background-color: white;}#sk-container-id-1 div.sk-label label {font-family: monospace;font-weight: bold;display: inline-block;line-height: 1.2em;}#sk-container-id-1 div.sk-label-container {text-align: center;}#sk-container-id-1 div.sk-container {/* jupyter's `normalize.less` sets `[hidden] { display: none; }` but bootstrap.min.css set `[hidden] { display: none !important; }` so we also need the `!important` here to be able to override the default hidden behavior on the sphinx rendered scikit-learn.org. See: https://github.com/scikit-learn/scikit-learn/issues/21755 */display: inline-block !important;position: relative;}#sk-container-id-1 div.sk-text-repr-fallback {display: none;}</style><div id=\"sk-container-id-1\" class=\"sk-top-container\"><div class=\"sk-text-repr-fallback\"><pre>MLPClassifier(hidden_layer_sizes=(256, 128, 64, 32), verbose=1)</pre><b>In a Jupyter environment, please rerun this cell to show the HTML representation or trust the notebook. <br />On GitHub, the HTML representation is unable to render, please try loading this page with nbviewer.org.</b></div><div class=\"sk-container\" hidden><div class=\"sk-item\"><div class=\"sk-estimator sk-toggleable\"><input class=\"sk-toggleable__control sk-hidden--visually\" id=\"sk-estimator-id-1\" type=\"checkbox\" checked><label for=\"sk-estimator-id-1\" class=\"sk-toggleable__label sk-toggleable__label-arrow\">MLPClassifier</label><div class=\"sk-toggleable__content\"><pre>MLPClassifier(hidden_layer_sizes=(256, 128, 64, 32), verbose=1)</pre></div></div></div></div></div>"
      ],
      "text/plain": [
       "MLPClassifier(hidden_layer_sizes=(256, 128, 64, 32), verbose=1)"
      ]
     },
     "execution_count": 22,
     "metadata": {},
     "output_type": "execute_result"
    }
   ],
   "source": [
    "mlp = MLPClassifier(hidden_layer_sizes=(256,128,64,32),activation=\"relu\", verbose=1)\n",
    "mlp"
   ]
  },
  {
   "cell_type": "code",
   "execution_count": 23,
   "id": "76e3e70e",
   "metadata": {
    "execution": {
     "iopub.execute_input": "2025-10-29T15:19:52.748089Z",
     "iopub.status.busy": "2025-10-29T15:19:52.747359Z",
     "iopub.status.idle": "2025-10-29T15:24:06.623294Z",
     "shell.execute_reply": "2025-10-29T15:24:06.622240Z"
    },
    "papermill": {
     "duration": 253.887097,
     "end_time": "2025-10-29T15:24:06.624798",
     "exception": false,
     "start_time": "2025-10-29T15:19:52.737701",
     "status": "completed"
    },
    "scrolled": true,
    "tags": []
   },
   "outputs": [
    {
     "name": "stdout",
     "output_type": "stream",
     "text": [
      "Iteration 1, loss = 0.64348538\n",
      "Iteration 2, loss = 0.31771239\n",
      "Iteration 3, loss = 0.08833224\n",
      "Iteration 4, loss = 0.03268786\n",
      "Iteration 5, loss = 0.02078437\n",
      "Iteration 6, loss = 0.01706885\n",
      "Iteration 7, loss = 0.01295337\n",
      "Iteration 8, loss = 0.01355892\n",
      "Iteration 9, loss = 0.01169616\n",
      "Iteration 10, loss = 0.01075696\n",
      "Iteration 11, loss = 0.01053247\n",
      "Iteration 12, loss = 0.01029760\n",
      "Iteration 13, loss = 0.01083279\n",
      "Iteration 14, loss = 0.00874730\n",
      "Iteration 15, loss = 0.00790210\n",
      "Iteration 16, loss = 0.00766080\n",
      "Iteration 17, loss = 0.00920990\n",
      "Iteration 18, loss = 0.00936120\n",
      "Iteration 19, loss = 0.00779443\n",
      "Iteration 20, loss = 0.00877109\n",
      "Iteration 21, loss = 0.00758538\n",
      "Iteration 22, loss = 0.00685333\n",
      "Iteration 23, loss = 0.00754987\n",
      "Iteration 24, loss = 0.00738606\n",
      "Iteration 25, loss = 0.00645972\n",
      "Iteration 26, loss = 0.00639314\n",
      "Iteration 27, loss = 0.00639600\n",
      "Iteration 28, loss = 0.00588619\n",
      "Iteration 29, loss = 0.00630315\n",
      "Iteration 30, loss = 0.00635310\n",
      "Iteration 31, loss = 0.00612315\n",
      "Iteration 32, loss = 0.00603653\n",
      "Iteration 33, loss = 0.00610306\n",
      "Iteration 34, loss = 0.00592947\n",
      "Iteration 35, loss = 0.00579501\n",
      "Iteration 36, loss = 0.00595349\n",
      "Iteration 37, loss = 0.00582669\n",
      "Iteration 38, loss = 0.00582217\n",
      "Iteration 39, loss = 0.00584776\n",
      "Training loss did not improve more than tol=0.000100 for 10 consecutive epochs. Stopping.\n",
      "Train Time: 253.87061190605164 seconds\n",
      "CPU times: user 3min 51s, sys: 4min 11s, total: 8min 2s\n",
      "Wall time: 4min 13s\n"
     ]
    }
   ],
   "source": [
    "%%time\n",
    "start= time.time()\n",
    "mlp.fit(X_train, y_train)\n",
    "print(f\"Train Time: {time.time() - start} seconds\")"
   ]
  },
  {
   "cell_type": "markdown",
   "id": "47ba5f81",
   "metadata": {
    "papermill": {
     "duration": 0.010781,
     "end_time": "2025-10-29T15:24:06.646863",
     "exception": false,
     "start_time": "2025-10-29T15:24:06.636082",
     "status": "completed"
    },
    "tags": []
   },
   "source": [
    "# Evaluation"
   ]
  },
  {
   "cell_type": "code",
   "execution_count": 24,
   "id": "d54fc702",
   "metadata": {
    "execution": {
     "iopub.execute_input": "2025-10-29T15:24:06.670443Z",
     "iopub.status.busy": "2025-10-29T15:24:06.669772Z",
     "iopub.status.idle": "2025-10-29T15:24:06.690002Z",
     "shell.execute_reply": "2025-10-29T15:24:06.689174Z"
    },
    "papermill": {
     "duration": 0.033736,
     "end_time": "2025-10-29T15:24:06.691508",
     "exception": false,
     "start_time": "2025-10-29T15:24:06.657772",
     "status": "completed"
    },
    "tags": []
   },
   "outputs": [
    {
     "data": {
      "text/plain": [
       "array([0, 1, 0, ..., 1, 1, 1])"
      ]
     },
     "execution_count": 24,
     "metadata": {},
     "output_type": "execute_result"
    }
   ],
   "source": [
    "mlpPredict = mlp.predict(X_test)\n",
    "mlpPredict"
   ]
  },
  {
   "cell_type": "code",
   "execution_count": null,
   "id": "3d33ee65",
   "metadata": {
    "papermill": {
     "duration": 0.013954,
     "end_time": "2025-10-29T15:24:06.716829",
     "exception": false,
     "start_time": "2025-10-29T15:24:06.702875",
     "status": "completed"
    },
    "tags": []
   },
   "outputs": [],
   "source": []
  },
  {
   "cell_type": "code",
   "execution_count": 25,
   "id": "b27e19dc",
   "metadata": {
    "execution": {
     "iopub.execute_input": "2025-10-29T15:24:06.747574Z",
     "iopub.status.busy": "2025-10-29T15:24:06.747067Z",
     "iopub.status.idle": "2025-10-29T15:24:06.755442Z",
     "shell.execute_reply": "2025-10-29T15:24:06.754456Z"
    },
    "papermill": {
     "duration": 0.026983,
     "end_time": "2025-10-29T15:24:06.757193",
     "exception": false,
     "start_time": "2025-10-29T15:24:06.730210",
     "status": "completed"
    },
    "tags": []
   },
   "outputs": [
    {
     "name": "stdout",
     "output_type": "stream",
     "text": [
      "Accurary Score for MLP: 0.7537754432042022\n"
     ]
    }
   ],
   "source": [
    "acc = accuracy_score(y_test, mlpPredict)\n",
    "print(f\"Accurary Score for MLP: {acc}\")"
   ]
  },
  {
   "cell_type": "code",
   "execution_count": 26,
   "id": "013a6f66",
   "metadata": {
    "execution": {
     "iopub.execute_input": "2025-10-29T15:24:06.789860Z",
     "iopub.status.busy": "2025-10-29T15:24:06.789350Z",
     "iopub.status.idle": "2025-10-29T15:24:06.797910Z",
     "shell.execute_reply": "2025-10-29T15:24:06.797032Z"
    },
    "papermill": {
     "duration": 0.028604,
     "end_time": "2025-10-29T15:24:06.799445",
     "exception": false,
     "start_time": "2025-10-29T15:24:06.770841",
     "status": "completed"
    },
    "tags": []
   },
   "outputs": [
    {
     "data": {
      "text/plain": [
       "array([[695, 179],\n",
       "       [196, 453]])"
      ]
     },
     "execution_count": 26,
     "metadata": {},
     "output_type": "execute_result"
    }
   ],
   "source": [
    "mlpcm = confusion_matrix(y_test, mlpPredict)\n",
    "mlpcm"
   ]
  },
  {
   "cell_type": "code",
   "execution_count": 27,
   "id": "12f64d95",
   "metadata": {
    "execution": {
     "iopub.execute_input": "2025-10-29T15:24:06.823827Z",
     "iopub.status.busy": "2025-10-29T15:24:06.823200Z",
     "iopub.status.idle": "2025-10-29T15:24:07.001322Z",
     "shell.execute_reply": "2025-10-29T15:24:07.000433Z"
    },
    "papermill": {
     "duration": 0.19174,
     "end_time": "2025-10-29T15:24:07.002785",
     "exception": false,
     "start_time": "2025-10-29T15:24:06.811045",
     "status": "completed"
    },
    "tags": []
   },
   "outputs": [
    {
     "data": {
      "image/png": "[encoded data removed]",
      "text/plain": [
       "<Figure size 640x480 with 2 Axes>"
      ]
     },
     "metadata": {},
     "output_type": "display_data"
    }
   ],
   "source": [
    "mlpcmd = ConfusionMatrixDisplay(mlpcm)\n",
    "mlpcmd.plot()\n",
    "plt.title(f\"Confusion Matrix for MLP Validation\")\n",
    "plt.show()"
   ]
  },
  {
   "cell_type": "code",
   "execution_count": 28,
   "id": "f39bf8e9",
   "metadata": {
    "execution": {
     "iopub.execute_input": "2025-10-29T15:24:07.028296Z",
     "iopub.status.busy": "2025-10-29T15:24:07.027609Z",
     "iopub.status.idle": "2025-10-29T15:24:07.215363Z",
     "shell.execute_reply": "2025-10-29T15:24:07.214510Z"
    },
    "papermill": {
     "duration": 0.20204,
     "end_time": "2025-10-29T15:24:07.216915",
     "exception": false,
     "start_time": "2025-10-29T15:24:07.014875",
     "status": "completed"
    },
    "tags": []
   },
   "outputs": [
    {
     "data": {
      "image/png": "[encoded data removed]",
      "text/plain": [
       "<Figure size 640x480 with 2 Axes>"
      ]
     },
     "metadata": {},
     "output_type": "display_data"
    }
   ],
   "source": [
    "import seaborn as sns\n",
    "sns.heatmap(mlpcm/np.sum(mlpcm),annot=True, fmt='.2%', cmap='Blues');"
   ]
  },
  {
   "cell_type": "code",
   "execution_count": 29,
   "id": "81897f75",
   "metadata": {
    "execution": {
     "iopub.execute_input": "2025-10-29T15:24:07.243297Z",
     "iopub.status.busy": "2025-10-29T15:24:07.242970Z",
     "iopub.status.idle": "2025-10-29T15:24:07.265220Z",
     "shell.execute_reply": "2025-10-29T15:24:07.264146Z"
    },
    "papermill": {
     "duration": 0.037247,
     "end_time": "2025-10-29T15:24:07.266871",
     "exception": false,
     "start_time": "2025-10-29T15:24:07.229624",
     "status": "completed"
    },
    "tags": []
   },
   "outputs": [
    {
     "name": "stdout",
     "output_type": "stream",
     "text": [
      "              precision    recall  f1-score   support\n",
      "\n",
      "           0       0.78      0.80      0.79       874\n",
      "           1       0.72      0.70      0.71       649\n",
      "\n",
      "    accuracy                           0.75      1523\n",
      "   macro avg       0.75      0.75      0.75      1523\n",
      "weighted avg       0.75      0.75      0.75      1523\n",
      "\n"
     ]
    }
   ],
   "source": [
    "classifyReport  = classification_report(y_test, mlpPredict)\n",
    "classifyReportDF = classification_report(y_test, mlpPredict, output_dict=True) #classification\n",
    "print(classifyReport)"
   ]
  },
  {
   "cell_type": "markdown",
   "id": "0b599284",
   "metadata": {
    "execution": {
     "iopub.execute_input": "2025-10-29T14:36:28.692008Z",
     "iopub.status.busy": "2025-10-29T14:36:28.691547Z",
     "iopub.status.idle": "2025-10-29T14:36:28.697642Z",
     "shell.execute_reply": "2025-10-29T14:36:28.696273Z",
     "shell.execute_reply.started": "2025-10-29T14:36:28.691980Z"
    },
    "papermill": {
     "duration": 0.012004,
     "end_time": "2025-10-29T15:24:07.291345",
     "exception": false,
     "start_time": "2025-10-29T15:24:07.279341",
     "status": "completed"
    },
    "tags": []
   },
   "source": [
    "# ROC  AUC Score"
   ]
  },
  {
   "cell_type": "code",
   "execution_count": 30,
   "id": "dbaecb35",
   "metadata": {
    "execution": {
     "iopub.execute_input": "2025-10-29T15:24:07.318230Z",
     "iopub.status.busy": "2025-10-29T15:24:07.317063Z",
     "iopub.status.idle": "2025-10-29T15:24:07.471974Z",
     "shell.execute_reply": "2025-10-29T15:24:07.470999Z"
    },
    "papermill": {
     "duration": 0.169748,
     "end_time": "2025-10-29T15:24:07.473518",
     "exception": false,
     "start_time": "2025-10-29T15:24:07.303770",
     "status": "completed"
    },
    "tags": []
   },
   "outputs": [
    {
     "name": "stdout",
     "output_type": "stream",
     "text": [
      "\n",
      " ROC AUC Score for MLP:  0.7465957131725274\n"
     ]
    },
    {
     "data": {
      "image/png": "[encoded data removed]",
      "text/plain": [
       "<Figure size 640x480 with 1 Axes>"
      ]
     },
     "metadata": {},
     "output_type": "display_data"
    }
   ],
   "source": [
    "mlp_auc = roc_auc_score(y_test, mlpPredict)\n",
    "mlp_fpr, mlp_tpr, mlp_th= roc_curve(y_test, mlpPredict)\n",
    "\n",
    "print(\"\\n\\r ROC AUC Score for MLP: \", mlp_auc) # predict 1 \n",
    "#plot cuver\n",
    "plt.plot(mlp_fpr, mlp_tpr, label=\"AUC \"+ str(mlp_auc))\n",
    "plt.ylabel(\"True Positive Rate\")\n",
    "plt.xlabel(\"False Positive Rate\")\n",
    "plt.legend()\n",
    "plt.show()"
   ]
  },
  {
   "cell_type": "markdown",
   "id": "0e8477f1",
   "metadata": {
    "papermill": {
     "duration": 0.012733,
     "end_time": "2025-10-29T15:24:07.499369",
     "exception": false,
     "start_time": "2025-10-29T15:24:07.486636",
     "status": "completed"
    },
    "tags": []
   },
   "source": [
    "# Prediction Submit"
   ]
  },
  {
   "cell_type": "code",
   "execution_count": 31,
   "id": "edc7c662",
   "metadata": {
    "execution": {
     "iopub.execute_input": "2025-10-29T15:24:07.526045Z",
     "iopub.status.busy": "2025-10-29T15:24:07.525704Z",
     "iopub.status.idle": "2025-10-29T15:24:07.566138Z",
     "shell.execute_reply": "2025-10-29T15:24:07.565251Z"
    },
    "papermill": {
     "duration": 0.055705,
     "end_time": "2025-10-29T15:24:07.567751",
     "exception": false,
     "start_time": "2025-10-29T15:24:07.512046",
     "status": "completed"
    },
    "tags": []
   },
   "outputs": [
    {
     "data": {
      "text/plain": [
       "array([0, 1, 1, ..., 1, 0, 1])"
      ]
     },
     "execution_count": 31,
     "metadata": {},
     "output_type": "execute_result"
    }
   ],
   "source": [
    "finalPredict = mlp.predict(combinedTfid[trainDataSize:])\n",
    "finalPredict"
   ]
  },
  {
   "cell_type": "code",
   "execution_count": 32,
   "id": "394457b7",
   "metadata": {
    "execution": {
     "iopub.execute_input": "2025-10-29T15:24:07.595302Z",
     "iopub.status.busy": "2025-10-29T15:24:07.594737Z",
     "iopub.status.idle": "2025-10-29T15:24:07.600337Z",
     "shell.execute_reply": "2025-10-29T15:24:07.599541Z"
    },
    "papermill": {
     "duration": 0.020872,
     "end_time": "2025-10-29T15:24:07.601693",
     "exception": false,
     "start_time": "2025-10-29T15:24:07.580821",
     "status": "completed"
    },
    "tags": []
   },
   "outputs": [
    {
     "data": {
      "text/plain": [
       "3263"
      ]
     },
     "execution_count": 32,
     "metadata": {},
     "output_type": "execute_result"
    }
   ],
   "source": [
    "len(finalPredict)"
   ]
  },
  {
   "cell_type": "code",
   "execution_count": 33,
   "id": "1158d95d",
   "metadata": {
    "execution": {
     "iopub.execute_input": "2025-10-29T15:24:07.630333Z",
     "iopub.status.busy": "2025-10-29T15:24:07.629515Z",
     "iopub.status.idle": "2025-10-29T15:24:07.634368Z",
     "shell.execute_reply": "2025-10-29T15:24:07.633600Z"
    },
    "papermill": {
     "duration": 0.020584,
     "end_time": "2025-10-29T15:24:07.635833",
     "exception": false,
     "start_time": "2025-10-29T15:24:07.615249",
     "status": "completed"
    },
    "tags": []
   },
   "outputs": [],
   "source": [
    "sample[\"target\"] = finalPredict"
   ]
  },
  {
   "cell_type": "code",
   "execution_count": 34,
   "id": "6a4db6b5",
   "metadata": {
    "execution": {
     "iopub.execute_input": "2025-10-29T15:24:07.663685Z",
     "iopub.status.busy": "2025-10-29T15:24:07.663033Z",
     "iopub.status.idle": "2025-10-29T15:24:07.672216Z",
     "shell.execute_reply": "2025-10-29T15:24:07.671369Z"
    },
    "papermill": {
     "duration": 0.02452,
     "end_time": "2025-10-29T15:24:07.673679",
     "exception": false,
     "start_time": "2025-10-29T15:24:07.649159",
     "status": "completed"
    },
    "tags": []
   },
   "outputs": [
    {
     "data": {
      "text/html": [
       "<div>\n",
       "<style scoped>\n",
       "    .dataframe tbody tr th:only-of-type {\n",
       "        vertical-align: middle;\n",
       "    }\n",
       "\n",
       "    .dataframe tbody tr th {\n",
       "        vertical-align: top;\n",
       "    }\n",
       "\n",
       "    .dataframe thead th {\n",
       "        text-align: right;\n",
       "    }\n",
       "</style>\n",
       "<table border=\"1\" class=\"dataframe\">\n",
       "  <thead>\n",
       "    <tr style=\"text-align: right;\">\n",
       "      <th></th>\n",
       "      <th>id</th>\n",
       "      <th>target</th>\n",
       "    </tr>\n",
       "  </thead>\n",
       "  <tbody>\n",
       "    <tr>\n",
       "      <th>0</th>\n",
       "      <td>0</td>\n",
       "      <td>0</td>\n",
       "    </tr>\n",
       "    <tr>\n",
       "      <th>1</th>\n",
       "      <td>2</td>\n",
       "      <td>1</td>\n",
       "    </tr>\n",
       "    <tr>\n",
       "      <th>2</th>\n",
       "      <td>3</td>\n",
       "      <td>1</td>\n",
       "    </tr>\n",
       "    <tr>\n",
       "      <th>3</th>\n",
       "      <td>9</td>\n",
       "      <td>1</td>\n",
       "    </tr>\n",
       "    <tr>\n",
       "      <th>4</th>\n",
       "      <td>11</td>\n",
       "      <td>1</td>\n",
       "    </tr>\n",
       "    <tr>\n",
       "      <th>...</th>\n",
       "      <td>...</td>\n",
       "      <td>...</td>\n",
       "    </tr>\n",
       "    <tr>\n",
       "      <th>3258</th>\n",
       "      <td>10861</td>\n",
       "      <td>1</td>\n",
       "    </tr>\n",
       "    <tr>\n",
       "      <th>3259</th>\n",
       "      <td>10865</td>\n",
       "      <td>1</td>\n",
       "    </tr>\n",
       "    <tr>\n",
       "      <th>3260</th>\n",
       "      <td>10868</td>\n",
       "      <td>1</td>\n",
       "    </tr>\n",
       "    <tr>\n",
       "      <th>3261</th>\n",
       "      <td>10874</td>\n",
       "      <td>0</td>\n",
       "    </tr>\n",
       "    <tr>\n",
       "      <th>3262</th>\n",
       "      <td>10875</td>\n",
       "      <td>1</td>\n",
       "    </tr>\n",
       "  </tbody>\n",
       "</table>\n",
       "<p>3263 rows × 2 columns</p>\n",
       "</div>"
      ],
      "text/plain": [
       "         id  target\n",
       "0         0       0\n",
       "1         2       1\n",
       "2         3       1\n",
       "3         9       1\n",
       "4        11       1\n",
       "...     ...     ...\n",
       "3258  10861       1\n",
       "3259  10865       1\n",
       "3260  10868       1\n",
       "3261  10874       0\n",
       "3262  10875       1\n",
       "\n",
       "[3263 rows x 2 columns]"
      ]
     },
     "execution_count": 34,
     "metadata": {},
     "output_type": "execute_result"
    }
   ],
   "source": [
    "sample"
   ]
  },
  {
   "cell_type": "code",
   "execution_count": 35,
   "id": "3f6774bf",
   "metadata": {
    "execution": {
     "iopub.execute_input": "2025-10-29T15:24:07.702001Z",
     "iopub.status.busy": "2025-10-29T15:24:07.701679Z",
     "iopub.status.idle": "2025-10-29T15:24:07.708775Z",
     "shell.execute_reply": "2025-10-29T15:24:07.707646Z"
    },
    "papermill": {
     "duration": 0.022717,
     "end_time": "2025-10-29T15:24:07.710214",
     "exception": false,
     "start_time": "2025-10-29T15:24:07.687497",
     "status": "completed"
    },
    "tags": []
   },
   "outputs": [
    {
     "data": {
      "text/plain": [
       "target\n",
       "0    1962\n",
       "1    1301\n",
       "Name: count, dtype: int64"
      ]
     },
     "execution_count": 35,
     "metadata": {},
     "output_type": "execute_result"
    }
   ],
   "source": [
    "sample[\"target\"].value_counts()"
   ]
  },
  {
   "cell_type": "code",
   "execution_count": 36,
   "id": "1fd8bb79",
   "metadata": {
    "execution": {
     "iopub.execute_input": "2025-10-29T15:24:07.738562Z",
     "iopub.status.busy": "2025-10-29T15:24:07.737778Z",
     "iopub.status.idle": "2025-10-29T15:24:07.750825Z",
     "shell.execute_reply": "2025-10-29T15:24:07.749658Z"
    },
    "papermill": {
     "duration": 0.028728,
     "end_time": "2025-10-29T15:24:07.752495",
     "exception": false,
     "start_time": "2025-10-29T15:24:07.723767",
     "status": "completed"
    },
    "tags": []
   },
   "outputs": [],
   "source": [
    "sample.to_csv(\"submission.csv\", index=False)"
   ]
  },
  {
   "cell_type": "code",
   "execution_count": null,
   "id": "3404f3a0",
   "metadata": {
    "papermill": {
     "duration": 0.01302,
     "end_time": "2025-10-29T15:24:07.778905",
     "exception": false,
     "start_time": "2025-10-29T15:24:07.765885",
     "status": "completed"
    },
    "tags": []
   },
   "outputs": [],
   "source": []
  }
 ],
 "metadata": {
  "kaggle": {
   "accelerator": "none",
   "dataSources": [
    {
     "databundleVersionId": 869809,
     "sourceId": 17777,
     "sourceType": "competition"
    }
   ],
   "dockerImageVersionId": 31153,
   "isGpuEnabled": false,
   "isInternetEnabled": false,
   "language": "python",
   "sourceType": "notebook"
  },
  "kernelspec": {
   "display_name": "Python 3",
   "language": "python",
   "name": "python3"
  },
  "language_info": {
   "codemirror_mode": {
    "name": "ipython",
    "version": 3
   },
   "file_extension": ".py",
   "mimetype": "text/x-python",
   "name": "python",
   "nbconvert_exporter": "python",
   "pygments_lexer": "ipython3",
   "version": "3.11.13"
  },
  "papermill": {
   "default_parameters": {},
   "duration": 265.738364,
   "end_time": "2025-10-29T15:24:08.512251",
   "environment_variables": {},
   "exception": null,
   "input_path": "__notebook__.ipynb",
   "output_path": "__notebook__.ipynb",
   "parameters": {},
   "start_time": "2025-10-29T15:19:42.773887",
   "version": "2.6.0"
  }
 },
 "nbformat": 4,
 "nbformat_minor": 5
}
